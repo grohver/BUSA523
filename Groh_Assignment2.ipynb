{
 "cells": [
  {
   "cell_type": "code",
   "execution_count": null,
   "id": "53ba86a3-8561-4d4b-be73-5ee767d75b37",
   "metadata": {
    "tags": []
   },
   "outputs": [],
   "source": [
    "#Coin Toss List\n",
    "\n",
    "Flip coin 10,000 times store results in list\n",
    "Identify number of streaks (series of 5 or more heads or tails) streak_count > 5"
   ]
  },
  {
   "cell_type": "code",
   "execution_count": 12,
   "id": "6289068c-fade-429f-b485-36336d34c8bb",
   "metadata": {
    "tags": []
   },
   "outputs": [
    {
     "name": "stdout",
     "output_type": "stream",
     "text": [
      "Streaks of 5 or more: 0\n"
     ]
    }
   ],
   "source": [
    "import random\n",
    "cointoss = []\n",
    "tosses = 100\n",
    "\n",
    "for i in range(tosses):\n",
    "    if random.randint(0, 1) == 0:\n",
    "        cointoss.append('heads')\n",
    "    else:\n",
    "        cointoss.append('tails')\n",
    "\n",
    "count = 0\n",
    "streaks = 0\n",
    "current = None\n",
    "past = None\n",
    "\n",
    "for s in range(len(cointoss)):\n",
    "    current = past\n",
    "    past = cointoss[s]\n",
    "    if current == past:\n",
    "        count += 1\n",
    "    elif current != past:\n",
    "        count = 0\n",
    "    if count >= 5:\n",
    "        streaks += 1\n",
    "\n",
    "print(\"Streaks of 5 or more: \" + str(streaks))"
   ]
  },
  {
   "cell_type": "code",
   "execution_count": 157,
   "id": "56b4787d-6c74-4098-b86c-fd3e0f1ba00e",
   "metadata": {
    "collapsed": true,
    "jupyter": {
     "outputs_hidden": true
    },
    "tags": []
   },
   "outputs": [
    {
     "ename": "SyntaxError",
     "evalue": "invalid syntax (Temp/ipykernel_17424/254802136.py, line 3)",
     "output_type": "error",
     "traceback": [
      "\u001b[1;36m  File \u001b[1;32m\"C:\\Users\\haley\\AppData\\Local\\Temp/ipykernel_17424/254802136.py\"\u001b[1;36m, line \u001b[1;32m3\u001b[0m\n\u001b[1;33m    Use user input to Make Print:\u001b[0m\n\u001b[1;37m        ^\u001b[0m\n\u001b[1;31mSyntaxError\u001b[0m\u001b[1;31m:\u001b[0m invalid syntax\n"
     ]
    }
   ],
   "source": [
    "#Dictionary\n",
    "\n",
    "Use user input to Make Print:\n",
    "    Inventory:\n",
    "    5 swords\n",
    "    10 diamonds\n",
    "    6 gold coins\n",
    "    3 rope\n",
    "    2 potions"
   ]
  },
  {
   "cell_type": "code",
   "execution_count": 56,
   "id": "9fe45f33-b0f1-497d-ba11-3d7edd77729b",
   "metadata": {
    "tags": []
   },
   "outputs": [
    {
     "name": "stdout",
     "output_type": "stream",
     "text": [
      "swords\n"
     ]
    },
    {
     "name": "stdin",
     "output_type": "stream",
     "text": [
      " 10\n"
     ]
    },
    {
     "name": "stdout",
     "output_type": "stream",
     "text": [
      "diamonds\n"
     ]
    },
    {
     "name": "stdin",
     "output_type": "stream",
     "text": [
      " 5\n"
     ]
    },
    {
     "name": "stdout",
     "output_type": "stream",
     "text": [
      "gold coins\n"
     ]
    },
    {
     "name": "stdin",
     "output_type": "stream",
     "text": [
      " 3\n"
     ]
    },
    {
     "name": "stdout",
     "output_type": "stream",
     "text": [
      "rope\n"
     ]
    },
    {
     "name": "stdin",
     "output_type": "stream",
     "text": [
      " 2\n"
     ]
    },
    {
     "name": "stdout",
     "output_type": "stream",
     "text": [
      "potions\n"
     ]
    },
    {
     "name": "stdin",
     "output_type": "stream",
     "text": [
      " 6\n"
     ]
    },
    {
     "name": "stdout",
     "output_type": "stream",
     "text": [
      "Inventory\n",
      "10 swords\n",
      "5 diamonds\n",
      "3 gold coins\n",
      "2 rope\n",
      "6 potions\n"
     ]
    }
   ],
   "source": [
    "import random\n",
    "print(str(\"swords\"))\n",
    "number_of_swords = int(input())\n",
    "\n",
    "print(str(\"diamonds\"))    \n",
    "number_of_diamonds = int(input())\n",
    "    \n",
    "print(str(\"gold coins\"))   \n",
    "number_of_goldcoins = int(input())\n",
    "\n",
    "print(str(\"rope\"))    \n",
    "number_of_ropes = int(input())\n",
    "\n",
    "print(str(\"potions\"))    \n",
    "number_of_potions = int(input())\n",
    "   \n",
    "inventory = {'swords': number_of_swords, 'diamonds':number_of_diamonds, 'gold coins': number_of_goldcoins, 'rope': number_of_ropes, 'potions': number_of_potions}\n",
    "\n",
    "print(str(\"Inventory\"))\n",
    "for key,value in inventory.items():\n",
    "    print(str(value)+ ' ' + key)\n"
   ]
  },
  {
   "cell_type": "code",
   "execution_count": null,
   "id": "991cbd26-aaa4-46b7-bb7a-897ded321347",
   "metadata": {
    "tags": []
   },
   "outputs": [],
   "source": [
    "#Coin Toss Array\n",
    "\n",
    "Flip coin 10,000 times store results in array\n",
    "Identify number of streaks (series of 5 or more heads or tails)"
   ]
  },
  {
   "cell_type": "code",
   "execution_count": 17,
   "id": "c8df4938-d32c-4aed-882a-00fa4fab8ff8",
   "metadata": {
    "tags": []
   },
   "outputs": [
    {
     "name": "stdout",
     "output_type": "stream",
     "text": [
      "Streaks of 5 or more: 283\n"
     ]
    }
   ],
   "source": [
    "import numpy as np\n",
    "from numpy import random\n",
    "\n",
    "tosses = 10000\n",
    "flip = np.random.choice(['heads', 'tails'], size = ((tosses), 1))\n",
    "\n",
    "count = 0\n",
    "streaks = 0\n",
    "current = None\n",
    "past = None\n",
    "\n",
    "for x in range(len(flip)):\n",
    "    current = past\n",
    "    past = flip[x]\n",
    "    if current == past:\n",
    "        count += 1\n",
    "    elif current != past:\n",
    "        count = 0\n",
    "    if count >= 5:\n",
    "        streaks += 1\n",
    "\n",
    "print(\"Streaks of 5 or more: \" + str(streaks))\n"
   ]
  },
  {
   "cell_type": "code",
   "execution_count": 71,
   "id": "cba1dc51-68ae-4e6c-a881-d78a77fcb0df",
   "metadata": {},
   "outputs": [
    {
     "ename": "SyntaxError",
     "evalue": "invalid syntax (Temp/ipykernel_18712/2786713843.py, line 3)",
     "output_type": "error",
     "traceback": [
      "\u001b[1;36m  File \u001b[1;32m\"C:\\Users\\haley\\AppData\\Local\\Temp/ipykernel_18712/2786713843.py\"\u001b[1;36m, line \u001b[1;32m3\u001b[0m\n\u001b[1;33m    3 players and 10 iterations (rolls)\u001b[0m\n\u001b[1;37m      ^\u001b[0m\n\u001b[1;31mSyntaxError\u001b[0m\u001b[1;31m:\u001b[0m invalid syntax\n"
     ]
    }
   ],
   "source": [
    "#Die Game\n",
    "\n",
    "3 players and 10 iterations (rolls)\n",
    "In each iteration every player rolls\n",
    "The winner of the game is the one who has the highest score when rolls from all the iterations are added"
   ]
  },
  {
   "cell_type": "code",
   "execution_count": 61,
   "id": "1d379cfe-6a02-47bf-920d-93fcab20701e",
   "metadata": {},
   "outputs": [
    {
     "name": "stdout",
     "output_type": "stream",
     "text": [
      "Iteration 1\n",
      "Player 1 Roll: 6\n",
      "Player 2 Roll: 1\n",
      "Player 3 Roll: 2\n",
      "Player 1 Score: 6\n",
      "Player 2 Score: 1\n",
      "Player 3 Score: 2\n",
      "Player 1 Wins!\n",
      "Iteration 2\n",
      "Player 1 Roll: 5\n",
      "Player 2 Roll: 3\n",
      "Player 3 Roll: 1\n",
      "Player 1 Score: 11\n",
      "Player 2 Score: 4\n",
      "Player 3 Score: 3\n",
      "Player 1 Wins!\n",
      "Iteration 3\n",
      "Player 1 Roll: 6\n",
      "Player 2 Roll: 1\n",
      "Player 3 Roll: 4\n",
      "Player 1 Score: 17\n",
      "Player 2 Score: 5\n",
      "Player 3 Score: 7\n",
      "Player 1 Wins!\n",
      "Iteration 4\n",
      "Player 1 Roll: 3\n",
      "Player 2 Roll: 5\n",
      "Player 3 Roll: 1\n",
      "Player 1 Score: 20\n",
      "Player 2 Score: 10\n",
      "Player 3 Score: 8\n",
      "Player 1 Wins!\n",
      "Iteration 5\n",
      "Player 1 Roll: 1\n",
      "Player 2 Roll: 3\n",
      "Player 3 Roll: 4\n",
      "Player 1 Score: 21\n",
      "Player 2 Score: 13\n",
      "Player 3 Score: 12\n",
      "Player 1 Wins!\n",
      "Iteration 6\n",
      "Player 1 Roll: 4\n",
      "Player 2 Roll: 1\n",
      "Player 3 Roll: 6\n",
      "Player 1 Score: 25\n",
      "Player 2 Score: 14\n",
      "Player 3 Score: 18\n",
      "Player 1 Wins!\n",
      "Iteration 7\n",
      "Player 1 Roll: 4\n",
      "Player 2 Roll: 1\n",
      "Player 3 Roll: 3\n",
      "Player 1 Score: 29\n",
      "Player 2 Score: 15\n",
      "Player 3 Score: 21\n",
      "Player 1 Wins!\n",
      "Iteration 8\n",
      "Player 1 Roll: 6\n",
      "Player 2 Roll: 4\n",
      "Player 3 Roll: 6\n",
      "Player 1 Score: 35\n",
      "Player 2 Score: 19\n",
      "Player 3 Score: 27\n",
      "Player 1 Wins!\n",
      "Iteration 9\n",
      "Player 1 Roll: 2\n",
      "Player 2 Roll: 2\n",
      "Player 3 Roll: 3\n",
      "Player 1 Score: 37\n",
      "Player 2 Score: 21\n",
      "Player 3 Score: 30\n",
      "Player 1 Wins!\n",
      "Iteration 10\n",
      "Player 1 Roll: 2\n",
      "Player 2 Roll: 5\n",
      "Player 3 Roll: 1\n",
      "Player 1 Score: 39\n",
      "Player 2 Score: 26\n",
      "Player 3 Score: 31\n",
      "Player 1 Wins!\n"
     ]
    }
   ],
   "source": [
    "import random\n",
    "\n",
    "def main():\n",
    "    player1 = 0\n",
    "    player1score = 0\n",
    "    player2 = 0\n",
    "    player2score = 0\n",
    "    player3 = 0\n",
    "    player3score = 0\n",
    "    iterations = 1\n",
    "    \n",
    "    while iterations != 11:\n",
    "        print(\"Iteration \" + str(iterations))\n",
    "        player1 = random.randint(1,6)\n",
    "        player2 = random.randint(1,6)\n",
    "        player3 = random.randint(1,6)\n",
    "        print(\"Player 1 Roll: \" + str(player1))\n",
    "        print(\"Player 2 Roll: \" + str(player2))\n",
    "        print(\"Player 3 Roll: \" + str(player3))\n",
    "        iterations = iterations + 1\n",
    "        \n",
    "        player1score = player1 + player1score\n",
    "        print(\"Player 1 Score: \" + str(player1score))\n",
    "        player2score = player2 + player2score\n",
    "        print(\"Player 2 Score: \" + str(player2score))\n",
    "        player3score = player3 + player3score\n",
    "        print(\"Player 3 Score: \" + str(player3score))\n",
    "        \n",
    "        if player1score > player2score and player1score > player3score :\n",
    "            print(\"Player 1 Wins!\")\n",
    "        elif player2score > player1score and player2score > player3score :\n",
    "            print(\"Player 2 Wins!\")\n",
    "        elif player3score > player1score and player3score > player2score :\n",
    "            print(\"Player 3 Wins!\")\n",
    "        \n",
    "main()\n",
    "\n",
    "\n"
   ]
  },
  {
   "cell_type": "code",
   "execution_count": null,
   "id": "68877a15-3168-49cc-91a6-1a021c950188",
   "metadata": {},
   "outputs": [],
   "source": []
  },
  {
   "cell_type": "code",
   "execution_count": null,
   "id": "1fea5ab9-c50d-4a87-aafa-b8118b97445a",
   "metadata": {
    "jupyter": {
     "source_hidden": true
    }
   },
   "outputs": [],
   "source": []
  }
 ],
 "metadata": {
  "kernelspec": {
   "display_name": "Python 3 (ipykernel)",
   "language": "python",
   "name": "python3"
  },
  "language_info": {
   "codemirror_mode": {
    "name": "ipython",
    "version": 3
   },
   "file_extension": ".py",
   "mimetype": "text/x-python",
   "name": "python",
   "nbconvert_exporter": "python",
   "pygments_lexer": "ipython3",
   "version": "3.9.7"
  }
 },
 "nbformat": 4,
 "nbformat_minor": 5
}
