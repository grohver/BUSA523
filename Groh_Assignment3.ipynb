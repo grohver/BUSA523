{
 "cells": [
  {
   "cell_type": "code",
   "execution_count": null,
   "id": "974ae188",
   "metadata": {},
   "outputs": [],
   "source": [
    "#Student records\n",
    "Firstname, lastname, country, gpa, credits, major\n",
    "progress\n",
    "-good = +3.0 and >20 credits\n",
    "-average = +2.5 or 10-20 credits\n",
    "-bad = -2.5"
   ]
  },
  {
   "cell_type": "code",
   "execution_count": 104,
   "id": "728ca215",
   "metadata": {},
   "outputs": [
    {
     "name": "stdout",
     "output_type": "stream",
     "text": [
      "Student: haley groh\n",
      "average\n"
     ]
    }
   ],
   "source": [
    "class Student:\n",
    "    def __init__(self, first, last, country, grade, credits, major):\n",
    "        self.first = first\n",
    "        self.last = last\n",
    "        self.country = country\n",
    "        self.grade = grade\n",
    "        self.credits = credits\n",
    "        self.major = major\n",
    "        \n",
    "    def progress(self):\n",
    "        print('Student:', self.first, self.last)\n",
    "        if self.grade > 3.0 and self.credits > 20:\n",
    "            print('good')\n",
    "\n",
    "        elif self.grade > 2.5 < 3.0 or self.credits > 10 < 20:\n",
    "            print('average')\n",
    "\n",
    "        elif self.grade < 2.5:\n",
    "            print('bad')\n",
    "        \n",
    "user = Student('haley', 'groh', 'usa', 4.0, 15, 'BUSA')\n",
    "\n",
    "user.progress()"
   ]
  },
  {
   "cell_type": "code",
   "execution_count": 96,
   "id": "cbd7db88",
   "metadata": {},
   "outputs": [],
   "source": [
    "#Separate numbers from list"
   ]
  },
  {
   "cell_type": "code",
   "execution_count": 28,
   "id": "7373bcab",
   "metadata": {},
   "outputs": [
    {
     "name": "stdout",
     "output_type": "stream",
     "text": [
      "[-6, -3, -2, -8] [5, 1, 9, 3]\n",
      "67.3 ns ± 1.46 ns per loop (mean ± std. dev. of 7 runs, 10000000 loops each)\n"
     ]
    }
   ],
   "source": [
    "def split(l): \n",
    "    a = [] \n",
    "    b = [] \n",
    "    for i in l: \n",
    "        if i < 0: \n",
    "            a.append(i) \n",
    "        if i > 0:\n",
    "            b.append(i) \n",
    "    print(a, b)\n",
    "\n",
    "l = [-6, 5, -3, -2, 1, 0, -8, 9, 3]\n",
    "\n",
    "split(l)"
   ]
  },
  {
   "cell_type": "code",
   "execution_count": null,
   "id": "8f87e42b",
   "metadata": {},
   "outputs": [],
   "source": [
    "#Function for winning possibilities"
   ]
  },
  {
   "cell_type": "code",
   "execution_count": 10,
   "id": "4cc4fa4e",
   "metadata": {},
   "outputs": [
    {
     "name": "stdout",
     "output_type": "stream",
     "text": [
      "'Enter Player's final score = 18\n",
      "Possibilities = [[8, 11], [9, 10], [9, 11], [10, 10], [10, 11]]\n"
     ]
    }
   ],
   "source": [
    "def possibilities(number):\n",
    "    ans = []\n",
    "    for i in range (1, 12):\n",
    "        for j in range (i, 12):\n",
    "            if(number < i+j and i+j <22):\n",
    "                ans.append([i,j])\n",
    "    print('Possibilities =', ans)\n",
    "    \n",
    "n = int(input(\"'Enter Player's final score = \"))\n",
    "\n",
    "possibilities(n)"
   ]
  },
  {
   "cell_type": "code",
   "execution_count": null,
   "id": "e8964e98",
   "metadata": {},
   "outputs": [],
   "source": [
    "#Number of steps & Big O order for question 2 and 3"
   ]
  },
  {
   "cell_type": "code",
   "execution_count": 30,
   "id": "0a3d29cb",
   "metadata": {
    "scrolled": true
   },
   "outputs": [
    {
     "name": "stdout",
     "output_type": "stream",
     "text": [
      "[-6, -3, -2, -8] [5, 1, 9, 3]\n",
      "77.1 ns ± 3.2 ns per loop (mean ± std. dev. of 7 runs, 10000000 loops each)\n"
     ]
    }
   ],
   "source": [
    "def split(l): \n",
    "    a = [] #1\n",
    "    b = [] #1\n",
    "    for i in l: #2n\n",
    "        if i < 0: \n",
    "            a.append(i) \n",
    "        if i > 0:\n",
    "            b.append(i) \n",
    "    print(a, b) #1\n",
    "\n",
    "l = [-6, 5, -3, -2, 1, 0, -8, 9, 3]\n",
    "\n",
    "split(l)\n",
    "\n",
    "# 3+2n\n",
    "# O(n) - it is linear with the size of l\n",
    "\n",
    "%timeit check(l)"
   ]
  },
  {
   "cell_type": "code",
   "execution_count": 43,
   "id": "987e5925",
   "metadata": {},
   "outputs": [
    {
     "name": "stdout",
     "output_type": "stream",
     "text": [
      "Enter Player's final score = 18\n",
      "Possibilities = [[8, 11], [9, 10], [9, 11], [10, 10], [10, 11]]\n",
      "72.8 ns ± 6.81 ns per loop (mean ± std. dev. of 7 runs, 10000000 loops each)\n"
     ]
    }
   ],
   "source": [
    "def possibilities(number):\n",
    "    ans = [] #1\n",
    "    for i in range (1, 12):#13\n",
    "        for j in range (i, 12):#13\n",
    "            if(number < i+j and i+j <22):#7\n",
    "                ans.append([i,j])\n",
    "    print('Possibilities =', ans)\n",
    "    \n",
    "n = int(input(\"Enter Player's final score = \"))\n",
    "\n",
    "possibilities(n)\n",
    "\n",
    "#34\n",
    "# O(1) - it is constant regardless of input\n",
    "\n",
    "%timeit check(n)"
   ]
  },
  {
   "cell_type": "code",
   "execution_count": null,
   "id": "e0f0a602",
   "metadata": {},
   "outputs": [],
   "source": []
  }
 ],
 "metadata": {
  "kernelspec": {
   "display_name": "Python 3 (ipykernel)",
   "language": "python",
   "name": "python3"
  },
  "language_info": {
   "codemirror_mode": {
    "name": "ipython",
    "version": 3
   },
   "file_extension": ".py",
   "mimetype": "text/x-python",
   "name": "python",
   "nbconvert_exporter": "python",
   "pygments_lexer": "ipython3",
   "version": "3.9.7"
  }
 },
 "nbformat": 4,
 "nbformat_minor": 5
}
