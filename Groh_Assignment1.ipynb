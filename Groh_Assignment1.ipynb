{
 "cells": [
  {
   "cell_type": "code",
   "execution_count": null,
   "id": "2901de5c-568d-4447-8b7a-43fce5222b28",
   "metadata": {
    "tags": []
   },
   "outputs": [],
   "source": [
    "# Number Guessing"
   ]
  },
  {
   "cell_type": "code",
   "execution_count": null,
   "id": "0b9c86c6-f392-404e-adc0-89871bb1abc7",
   "metadata": {},
   "outputs": [],
   "source": [
    "Take user input\n",
    "Randomly select a value between 1 and 20\n",
    "If user input = value = You guessed correctly\n",
    "If user input != value = try again\n",
    "Allow 5 guesses\n",
    "On guess 5 if input != value = You lose."
   ]
  },
  {
   "cell_type": "code",
   "execution_count": 38,
   "id": "1325c630-0f00-4910-8d2c-5bc6c56e46c9",
   "metadata": {},
   "outputs": [
    {
     "name": "stdin",
     "output_type": "stream",
     "text": [
      " 1\n"
     ]
    },
    {
     "name": "stdout",
     "output_type": "stream",
     "text": [
      "Guess the number I am thinking of between 1 and 20\n",
      "Try again.\n"
     ]
    },
    {
     "name": "stdin",
     "output_type": "stream",
     "text": [
      " 3\n"
     ]
    },
    {
     "name": "stdout",
     "output_type": "stream",
     "text": [
      "Guess the number I am thinking of between 1 and 20\n",
      "Try again.\n"
     ]
    },
    {
     "name": "stdin",
     "output_type": "stream",
     "text": [
      " 4\n"
     ]
    },
    {
     "name": "stdout",
     "output_type": "stream",
     "text": [
      "Guess the number I am thinking of between 1 and 20\n",
      "Try again.\n"
     ]
    },
    {
     "name": "stdin",
     "output_type": "stream",
     "text": [
      " 6\n"
     ]
    },
    {
     "name": "stdout",
     "output_type": "stream",
     "text": [
      "Guess the number I am thinking of between 1 and 20\n",
      "Try again.\n"
     ]
    },
    {
     "name": "stdin",
     "output_type": "stream",
     "text": [
      " 8\n"
     ]
    },
    {
     "name": "stdout",
     "output_type": "stream",
     "text": [
      "Guess the number I am thinking of between 1 and 20\n",
      "Try again.\n",
      "You lose. You did not guess my number.\n"
     ]
    }
   ],
   "source": [
    "import random\n",
    "number = random.randint (1,20)\n",
    "number_of_guesses = 0\n",
    "\n",
    "while number_of_guesses < 5:\n",
    "    guess = int(input())\n",
    "    number_of_guesses = number_of_guesses + 1\n",
    "    print(\"Guess the number I am thinking of between 1 and 20\")\n",
    "    if guess < number:\n",
    "        print(\"Try again.\")\n",
    "    if guess > number: \n",
    "        print(\"Try again.\")\n",
    "    if guess == number:\n",
    "        break\n",
    "        \n",
    "if guess == number:\n",
    "    print(\"You win! You guessed the number!\")\n",
    "    \n",
    "else:\n",
    "    print(\"You lose. You did not guess my number.\")\n",
    "        "
   ]
  },
  {
   "cell_type": "code",
   "execution_count": null,
   "id": "1a4525c8-a485-4669-9adf-e9b1db77917e",
   "metadata": {},
   "outputs": [],
   "source": [
    "# Number Guessing with Hints"
   ]
  },
  {
   "cell_type": "code",
   "execution_count": null,
   "id": "3d9b7448-cf20-4f24-9f77-2879cbab9d26",
   "metadata": {},
   "outputs": [],
   "source": [
    "Take user input\n",
    "Randomly select a value between 1 and 20\n",
    "If user input = value = You guessed correctly\n",
    "If user input < value = guess a higher value\n",
    "If user input > value = guess a lower value\n",
    "Allow 5 guesses\n",
    "On guess 5 if input != value = You lose."
   ]
  },
  {
   "cell_type": "code",
   "execution_count": 39,
   "id": "5cbd21a6-13f5-4987-87e7-045f37a2c2f7",
   "metadata": {},
   "outputs": [
    {
     "name": "stdin",
     "output_type": "stream",
     "text": [
      " 1\n"
     ]
    },
    {
     "name": "stdout",
     "output_type": "stream",
     "text": [
      "Guess the number I am thinking of between 1 and 20\n",
      "Guess a little higher\n"
     ]
    },
    {
     "name": "stdin",
     "output_type": "stream",
     "text": [
      " 5\n"
     ]
    },
    {
     "name": "stdout",
     "output_type": "stream",
     "text": [
      "Guess the number I am thinking of between 1 and 20\n",
      "Guess a little higher\n"
     ]
    },
    {
     "name": "stdin",
     "output_type": "stream",
     "text": [
      " 7\n"
     ]
    },
    {
     "name": "stdout",
     "output_type": "stream",
     "text": [
      "Guess the number I am thinking of between 1 and 20\n",
      "Guess a little higher\n"
     ]
    },
    {
     "name": "stdin",
     "output_type": "stream",
     "text": [
      " 8\n"
     ]
    },
    {
     "name": "stdout",
     "output_type": "stream",
     "text": [
      "Guess the number I am thinking of between 1 and 20\n",
      "Guess a little higher\n"
     ]
    },
    {
     "name": "stdin",
     "output_type": "stream",
     "text": [
      " 20\n"
     ]
    },
    {
     "name": "stdout",
     "output_type": "stream",
     "text": [
      "Guess the number I am thinking of between 1 and 20\n",
      "Guess a little lower\n",
      "You lose. You did not guess my number.\n"
     ]
    }
   ],
   "source": [
    "import random\n",
    "number = random.randint (1,20)\n",
    "number_of_guesses = 0\n",
    "\n",
    "while number_of_guesses < 5:\n",
    "    guess = int(input())\n",
    "    number_of_guesses = number_of_guesses + 1\n",
    "    print(\"Guess the number I am thinking of between 1 and 20\")\n",
    "    if guess < number:\n",
    "        print(\"Guess a little higher\")\n",
    "    if guess > number: \n",
    "        print(\"Guess a little lower\")\n",
    "    if guess == number:\n",
    "        break\n",
    "        \n",
    "if guess == number:\n",
    "    print(\"You win! You guessed the number!\")\n",
    "    \n",
    "else:\n",
    "    print(\"You lose. You did not guess my number.\")"
   ]
  },
  {
   "cell_type": "code",
   "execution_count": null,
   "id": "50039e7e-4ede-42cc-ab9e-9c73446e9420",
   "metadata": {},
   "outputs": [],
   "source": [
    "# Rock Paper Scissors Lizard Spock"
   ]
  },
  {
   "cell_type": "code",
   "execution_count": null,
   "id": "9913b443-8646-48f0-a837-c5d86c2a1529",
   "metadata": {},
   "outputs": [],
   "source": [
    "Take user input\n",
    "Randomly select a value between 1 and 5\n",
    "    - 1 = rock\n",
    "    - 2 = paper\n",
    "    - 3 = scissors\n",
    "    - 4 = lizard\n",
    "    - 5 = spock\n",
    "Compare user and computer\n",
    "    - same = tie\n",
    "    - rock v scissors or lizard = win\n",
    "    - rock v paper or spock = lose\n",
    "    - paper v rock or spock = win\n",
    "    - paper v scissors or lizard = lose\n",
    "    - scissors v paper or lizard = win\n",
    "    - scissors v rock or spock = lose\n",
    "    - lizard v paper or spock = win\n",
    "    - lizard v rock or scissors = lose\n",
    "    - spock v rock or scissors = win\n",
    "    - spock v paper or lizard = lose\n",
    "    -else invalid input"
   ]
  },
  {
   "cell_type": "code",
   "execution_count": 1,
   "id": "f9207129-1ab3-479d-8ff6-3470a5480b9e",
   "metadata": {
    "tags": []
   },
   "outputs": [
    {
     "name": "stdout",
     "output_type": "stream",
     "text": [
      "Enter your move: rock, paper, scissors, lizard or Spock\n"
     ]
    },
    {
     "ename": "KeyboardInterrupt",
     "evalue": "Interrupted by user",
     "output_type": "error",
     "traceback": [
      "\u001b[1;31m---------------------------------------------------------------------------\u001b[0m",
      "\u001b[1;31mKeyboardInterrupt\u001b[0m                         Traceback (most recent call last)",
      "\u001b[1;32m~\\AppData\\Local\\Temp/ipykernel_3812/2194334978.py\u001b[0m in \u001b[0;36m<module>\u001b[1;34m\u001b[0m\n\u001b[0;32m      1\u001b[0m \u001b[1;32mimport\u001b[0m \u001b[0mrandom\u001b[0m\u001b[1;33m\u001b[0m\u001b[1;33m\u001b[0m\u001b[0m\n\u001b[0;32m      2\u001b[0m \u001b[0mprint\u001b[0m\u001b[1;33m(\u001b[0m\u001b[1;34m\"Enter your move: rock, paper, scissors, lizard or Spock\"\u001b[0m\u001b[1;33m)\u001b[0m\u001b[1;33m\u001b[0m\u001b[1;33m\u001b[0m\u001b[0m\n\u001b[1;32m----> 3\u001b[1;33m \u001b[0muser\u001b[0m \u001b[1;33m=\u001b[0m \u001b[0minput\u001b[0m\u001b[1;33m(\u001b[0m\u001b[1;33m)\u001b[0m\u001b[1;33m\u001b[0m\u001b[1;33m\u001b[0m\u001b[0m\n\u001b[0m\u001b[0;32m      4\u001b[0m \u001b[1;33m\u001b[0m\u001b[0m\n\u001b[0;32m      5\u001b[0m \u001b[0mnumber\u001b[0m \u001b[1;33m=\u001b[0m \u001b[0mrandom\u001b[0m\u001b[1;33m.\u001b[0m\u001b[0mrandint\u001b[0m\u001b[1;33m(\u001b[0m\u001b[1;36m1\u001b[0m\u001b[1;33m,\u001b[0m\u001b[1;36m5\u001b[0m\u001b[1;33m)\u001b[0m\u001b[1;33m\u001b[0m\u001b[1;33m\u001b[0m\u001b[0m\n",
      "\u001b[1;32m~\\anaconda3\\lib\\site-packages\\ipykernel\\kernelbase.py\u001b[0m in \u001b[0;36mraw_input\u001b[1;34m(self, prompt)\u001b[0m\n\u001b[0;32m   1004\u001b[0m                 \u001b[1;34m\"raw_input was called, but this frontend does not support input requests.\"\u001b[0m\u001b[1;33m\u001b[0m\u001b[1;33m\u001b[0m\u001b[0m\n\u001b[0;32m   1005\u001b[0m             )\n\u001b[1;32m-> 1006\u001b[1;33m         return self._input_request(\n\u001b[0m\u001b[0;32m   1007\u001b[0m             \u001b[0mstr\u001b[0m\u001b[1;33m(\u001b[0m\u001b[0mprompt\u001b[0m\u001b[1;33m)\u001b[0m\u001b[1;33m,\u001b[0m\u001b[1;33m\u001b[0m\u001b[1;33m\u001b[0m\u001b[0m\n\u001b[0;32m   1008\u001b[0m             \u001b[0mself\u001b[0m\u001b[1;33m.\u001b[0m\u001b[0m_parent_ident\u001b[0m\u001b[1;33m[\u001b[0m\u001b[1;34m\"shell\"\u001b[0m\u001b[1;33m]\u001b[0m\u001b[1;33m,\u001b[0m\u001b[1;33m\u001b[0m\u001b[1;33m\u001b[0m\u001b[0m\n",
      "\u001b[1;32m~\\anaconda3\\lib\\site-packages\\ipykernel\\kernelbase.py\u001b[0m in \u001b[0;36m_input_request\u001b[1;34m(self, prompt, ident, parent, password)\u001b[0m\n\u001b[0;32m   1049\u001b[0m             \u001b[1;32mexcept\u001b[0m \u001b[0mKeyboardInterrupt\u001b[0m\u001b[1;33m:\u001b[0m\u001b[1;33m\u001b[0m\u001b[1;33m\u001b[0m\u001b[0m\n\u001b[0;32m   1050\u001b[0m                 \u001b[1;31m# re-raise KeyboardInterrupt, to truncate traceback\u001b[0m\u001b[1;33m\u001b[0m\u001b[1;33m\u001b[0m\u001b[0m\n\u001b[1;32m-> 1051\u001b[1;33m                 \u001b[1;32mraise\u001b[0m \u001b[0mKeyboardInterrupt\u001b[0m\u001b[1;33m(\u001b[0m\u001b[1;34m\"Interrupted by user\"\u001b[0m\u001b[1;33m)\u001b[0m \u001b[1;32mfrom\u001b[0m \u001b[1;32mNone\u001b[0m\u001b[1;33m\u001b[0m\u001b[1;33m\u001b[0m\u001b[0m\n\u001b[0m\u001b[0;32m   1052\u001b[0m             \u001b[1;32mexcept\u001b[0m \u001b[0mException\u001b[0m\u001b[1;33m:\u001b[0m\u001b[1;33m\u001b[0m\u001b[1;33m\u001b[0m\u001b[0m\n\u001b[0;32m   1053\u001b[0m                 \u001b[0mself\u001b[0m\u001b[1;33m.\u001b[0m\u001b[0mlog\u001b[0m\u001b[1;33m.\u001b[0m\u001b[0mwarning\u001b[0m\u001b[1;33m(\u001b[0m\u001b[1;34m\"Invalid Message:\"\u001b[0m\u001b[1;33m,\u001b[0m \u001b[0mexc_info\u001b[0m\u001b[1;33m=\u001b[0m\u001b[1;32mTrue\u001b[0m\u001b[1;33m)\u001b[0m\u001b[1;33m\u001b[0m\u001b[1;33m\u001b[0m\u001b[0m\n",
      "\u001b[1;31mKeyboardInterrupt\u001b[0m: Interrupted by user"
     ]
    }
   ],
   "source": [
    "import random\n",
    "print(\"Enter your move: rock, paper, scissors, lizard or Spock\")\n",
    "user = input()\n",
    "\n",
    "number = random.randint(1,5)\n",
    "\n",
    "if number == 1:\n",
    "    computer = \"rock\"\n",
    "elif number == 2:\n",
    "    computer = \"paper\"\n",
    "elif number == 3: \n",
    "    computer = \"scissors\"\n",
    "elif number == 4:\n",
    "    computer = \"lizard\"\n",
    "elif number == 5:\n",
    "    computer = \"Spock\"\n",
    "    \n",
    "if user == computer:\n",
    "    print(\"It's a tie!\")\n",
    "elif user == \"rock\" and computer == \"scissors\":\n",
    "    print(\"You win! Your rock crushed the scissors!\")\n",
    "elif user == \"rock\" and computer == \"lizard\":\n",
    "    print(\"You win! Your rock crushed the lizard!\")\n",
    "elif user == \"rock\" and computer == \"paper\":\n",
    "    print(\"You lose. The paper covered your rock.\")\n",
    "elif user == \"rock\" and computer == \"Spock\":\n",
    "    print(\"You lose. Spock vaporized your rock.\")\n",
    "elif user == \"paper\" and computer == \"rock\":\n",
    "    print (\"You win! Your paper covered the rock\")\n",
    "elif user == \"paper\" and computer == \"Spock\":\n",
    "    print(\"You win! Your paper disproved Spock!\")\n",
    "elif user == \"paper\" and computer == \"scissors\":\n",
    "    print(\"You lose. The scissors cut your paper.\")\n",
    "elif user == \"paper\" and computer == \"lizard\":\n",
    "    print(\"You lose. The lizard ate your paper.\")\n",
    "elif user == \"scissors\" and computer == \"paper\":\n",
    "    print(\"You win! Your scissors cut the paper.\")\n",
    "elif user == \"scissors\" and computer == \"lizard\":\n",
    "    print(\"You win! Your scissors decapitated the lizard!\")\n",
    "elif user == \"scissors\" and computer == \"rock\":\n",
    "    print(\"You lose. Your scissors are now crushed.\")\n",
    "elif user == \"scissors\" and computer == \"Spock\":\n",
    "    print(\"You lose. Spock smashed your scissors.\")\n",
    "elif user == \"lizard\" and computer == \"paper\":\n",
    "    print(\"You win! Your lizard ate the paper!\")\n",
    "elif user == \"lizard\" and computer == \"Spock\":\n",
    "    print(\"You win! Your lizard poisoned Spock!\")\n",
    "elif user == \"lizard\" and computer == \"rock\":\n",
    "    print(\"You lose. The rock crushed your lizard.\")\n",
    "elif user == \"lizard\" and computer == \"scissors\":\n",
    "    print(\"You lose. The scissors decapitated your lizard.\")\n",
    "elif user == \"Spock\" and computer == \"rock\":\n",
    "    print(\"You win! Spock vaporized the rock.\")\n",
    "elif user == \"Spock\" and computer == \"scissors\":\n",
    "    print(\"You win! Spock crushed the scissors.\")\n",
    "elif user == \"Spock\" and computer == \"paper\":\n",
    "    print(\"You lose. The paper disproved Spock.\")\n",
    "elif user == \"Spock\" and computer == \"lizard\":\n",
    "    print(\"You lose. The lizard poisoned Spock.\")\n",
    "else:\n",
    "    print(\"Invalid entry. Check spelling!\")"
   ]
  },
  {
   "cell_type": "code",
   "execution_count": null,
   "id": "a9bf7ddf-0d7a-4390-8a5e-0f724331b353",
   "metadata": {},
   "outputs": [],
   "source": []
  }
 ],
 "metadata": {
  "kernelspec": {
   "display_name": "Python 3 (ipykernel)",
   "language": "python",
   "name": "python3"
  },
  "language_info": {
   "codemirror_mode": {
    "name": "ipython",
    "version": 3
   },
   "file_extension": ".py",
   "mimetype": "text/x-python",
   "name": "python",
   "nbconvert_exporter": "python",
   "pygments_lexer": "ipython3",
   "version": "3.9.7"
  }
 },
 "nbformat": 4,
 "nbformat_minor": 5
}
